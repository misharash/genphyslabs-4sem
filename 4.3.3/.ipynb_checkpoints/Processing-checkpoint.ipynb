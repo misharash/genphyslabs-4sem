{
 "cells": [
  {
   "cell_type": "code",
   "execution_count": 1,
   "metadata": {},
   "outputs": [
    {
     "name": "stdout",
     "output_type": "stream",
     "text": [
      "Populating the interactive namespace from numpy and matplotlib\n"
     ]
    }
   ],
   "source": [
    "%pylab inline\n",
    "rc('font',**{'family':'serif'})\n",
    "rc('text', usetex=True)\n",
    "rc('text.latex',unicode=True)\n",
    "rc('text.latex',preamble=r'\\usepackage[utf8]{inputenc}')\n",
    "rc('text.latex',preamble=r'\\usepackage[russian]{babel}')\n",
    "rcParams['figure.figsize']=(8.27,5.83)\n",
    "rcParams['font.size']=16"
   ]
  },
  {
   "cell_type": "code",
   "execution_count": 2,
   "metadata": {
    "collapsed": true
   },
   "outputs": [],
   "source": [
    "def olsim(x,y,sx,sy):\n",
    "\ta=0\n",
    "\tfor i in range(3):\n",
    "\t\tw=1/(sy**2+(a*sx)**2)\n",
    "\t\tSw=sum(w)\n",
    "\t\tax=sum(x*w)/Sw\n",
    "\t\tay=sum(y*w)/Sw\n",
    "\t\taxy=sum(x*y*w)/Sw\n",
    "\t\tax2=sum((x**2+sx**2)*w)/Sw\n",
    "\t\tay2=sum((y**2+sy**2)*w)/Sw\n",
    "\t\ta=(axy-ax*ay)/(ax2-ax*ax)\n",
    "\tb=(ax2*ay-ax*axy)/(ax2-ax*ax)\n",
    "\tn=len(x)\n",
    "\tchi2=sum((y-a*x-b)**2/(sy**2+(a*sx)**2))\n",
    "\ts02=n/(n-2)*(ay2-ay*ay-(axy-ax*ay)*(axy-ax*ay)/(ax2-ax*ax))\n",
    "\tsa2=s02/n/(ax2-ax*ax)\n",
    "\tsb2=sa2*ax2\n",
    "\tsa=sqrt(sa2)\n",
    "\tsb=sqrt(sb2)\n",
    "\treturn a,b,sa,sb,chi2"
   ]
  },
  {
   "cell_type": "markdown",
   "metadata": {},
   "source": [
    "# Part I Difraction"
   ]
  },
  {
   "cell_type": "code",
   "execution_count": 3,
   "metadata": {},
   "outputs": [
    {
     "data": {
      "text/plain": [
       "6"
      ]
     },
     "execution_count": 3,
     "metadata": {},
     "output_type": "execute_result"
    }
   ],
   "source": [
    "numd,ld,sld,Nd=genfromtxt(\"difraction.csv\",delimiter=';',skip_header=1).T\n",
    "len(numd)"
   ]
  },
  {
   "cell_type": "code",
   "execution_count": 4,
   "metadata": {
    "collapsed": true
   },
   "outputs": [],
   "source": [
    "lambd=532e-7 #cm\n",
    "L=120"
   ]
  },
  {
   "cell_type": "code",
   "execution_count": 5,
   "metadata": {},
   "outputs": [
    {
     "name": "stdout",
     "output_type": "stream",
     "text": [
      "[  19.84663212   39.48865979   49.74545455   79.3865285   168.51167513\n",
      "  540.18461538] [ 0.10283229  0.40709959  0.32302243  0.41132916  1.71077843  6.92544379]\n"
     ]
    }
   ],
   "source": [
    "d=Nd*lambd*L/ld*1e4 #mkm\n",
    "sd=d*sld/ld\n",
    "print(d,sd)"
   ]
  },
  {
   "cell_type": "markdown",
   "metadata": {},
   "source": [
    "# Part II Microscope"
   ]
  },
  {
   "cell_type": "code",
   "execution_count": 6,
   "metadata": {},
   "outputs": [
    {
     "name": "stdout",
     "output_type": "stream",
     "text": [
      "75.43703703703703 3.05290941693\n"
     ]
    }
   ],
   "source": [
    "a1,sa1=13.5,0.5 #cm\n",
    "b2,sb2=33.5,0.5\n",
    "a2=2.5\n",
    "b1,sb1=76,0.5\n",
    "Gamma=b1*b2/a1/a2\n",
    "sGamma=Gamma*sqrt((sa1/a1)**2+(sb1/b1)**2+(sb2/b2)**2)\n",
    "print(Gamma,sGamma)"
   ]
  },
  {
   "cell_type": "code",
   "execution_count": 7,
   "metadata": {},
   "outputs": [
    {
     "data": {
      "text/plain": [
       "6"
      ]
     },
     "execution_count": 7,
     "metadata": {},
     "output_type": "execute_result"
    }
   ],
   "source": [
    "numm,bm,sbm,Nm=genfromtxt(\"microscope.csv\",delimiter=';',skip_header=1).T\n",
    "len(numm)"
   ]
  },
  {
   "cell_type": "code",
   "execution_count": 8,
   "metadata": {},
   "outputs": [
    {
     "name": "stdout",
     "output_type": "stream",
     "text": [
      "[  22.09347997   44.95542881   60.20473291   96.93514336  198.84131972\n",
      "  583.26787117] [  0.99734173   1.90843975   2.67519338   4.25852848   9.18039538\n",
      "  35.49752703]\n"
     ]
    }
   ],
   "source": [
    "d=bm/Nm/Gamma*1e4 #mkm\n",
    "sd=d*sqrt((sGamma/Gamma)**2+(sbm/bm)**2)\n",
    "print(d,sd)"
   ]
  },
  {
   "cell_type": "markdown",
   "metadata": {},
   "source": [
    "# Part III Resolution"
   ]
  },
  {
   "cell_type": "code",
   "execution_count": 9,
   "metadata": {},
   "outputs": [
    {
     "data": {
      "text/plain": [
       "4"
      ]
     },
     "execution_count": 9,
     "metadata": {},
     "output_type": "execute_result"
    }
   ],
   "source": [
    "numD,D,sD=genfromtxt(\"Dmin.csv\",delimiter=';',skip_header=1).T\n",
    "len(numD)"
   ]
  },
  {
   "cell_type": "code",
   "execution_count": 10,
   "metadata": {},
   "outputs": [
    {
     "name": "stdout",
     "output_type": "stream",
     "text": [
      "[  61.6          90.03076923  167.2         390.13333333] [  1.62105263   3.46272189  11.94285714  65.02222222]\n"
     ]
    }
   ],
   "source": [
    "F=11 #cm\n",
    "dD=2*lambd*F/D*1e5 #mkm, D is in mm\n",
    "sdD=dD*sD/D\n",
    "print(dD,sdD)"
   ]
  },
  {
   "cell_type": "code",
   "execution_count": 11,
   "metadata": {},
   "outputs": [
    {
     "name": "stdout",
     "output_type": "stream",
     "text": [
      "156.06069113 -22.1681743549 24.1650478123 15.392160651 0.866032586521\n"
     ]
    },
    {
     "data": {
      "image/png": "[encoded data removed]",
      "text/plain": [
       "<matplotlib.figure.Figure at 0x7f91272e0588>"
      ]
     },
     "metadata": {},
     "output_type": "display_data"
    }
   ],
   "source": [
    "d1=d[2:]\n",
    "sd1=sd[2:]\n",
    "errorbar(1/D,d1,xerr=sD/D/D,yerr=sd1,fmt=\".\",label=\"Эксперимент\")\n",
    "A,B,sA,sB,chi2=olsim(1/D,d1,sD/D/D,sd1)\n",
    "print(A,B,sA,sB,chi2)\n",
    "arg=arange(0,4.01,0.5)\n",
    "plot(arg,2*lambd*F*arg*1e5,\"--\",label=\"Теория\")\n",
    "plot(arg,A*arg+B,label=\"Фит\")\n",
    "axis((0,4,0,700))\n",
    "xlabel(\"$1/D$, мм$^{-1}$\")\n",
    "ylabel(\"$d$, мкм (по дифракции)\")\n",
    "title(\"График для проверки теории Аббе\")\n",
    "legend(loc='upper left')\n",
    "minorticks_on()\n",
    "grid(which='both')\n",
    "savefig(\"graph-abbe.pdf\")"
   ]
  },
  {
   "cell_type": "code",
   "execution_count": null,
   "metadata": {
    "collapsed": true
   },
   "outputs": [],
   "source": []
  }
 ],
 "metadata": {
  "kernelspec": {
   "display_name": "Python 3",
   "language": "python",
   "name": "python3"
  },
  "language_info": {
   "codemirror_mode": {
    "name": "ipython",
    "version": 3
   },
   "file_extension": ".py",
   "mimetype": "text/x-python",
   "name": "python",
   "nbconvert_exporter": "python",
   "pygments_lexer": "ipython3",
   "version": "3.5.2"
  }
 },
 "nbformat": 4,
 "nbformat_minor": 2
}
