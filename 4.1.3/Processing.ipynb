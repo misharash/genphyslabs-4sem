{
 "cells": [
  {
   "cell_type": "markdown",
   "metadata": {},
   "source": [
    "# Lab 4.1.3 Abbe refractometer"
   ]
  },
  {
   "cell_type": "code",
   "execution_count": 1,
   "metadata": {
    "collapsed": false
   },
   "outputs": [
    {
     "name": "stdout",
     "output_type": "stream",
     "text": [
      "Populating the interactive namespace from numpy and matplotlib\n"
     ]
    }
   ],
   "source": [
    "%pylab inline"
   ]
  },
  {
   "cell_type": "code",
   "execution_count": 2,
   "metadata": {
    "collapsed": false
   },
   "outputs": [
    {
     "data": {
      "text/plain": [
       "5"
      ]
     },
     "execution_count": 2,
     "metadata": {},
     "output_type": "execute_result"
    }
   ],
   "source": [
    "data1=genfromtxt(\"скользящий.csv\",delimiter=\",\",skip_header=1)\n",
    "cn=.5e-3\n",
    "len(data1)"
   ]
  },
  {
   "cell_type": "code",
   "execution_count": 3,
   "metadata": {
    "collapsed": false
   },
   "outputs": [
    {
     "name": "stdout",
     "output_type": "stream",
     "text": [
      "[ 1.3182  1.3469  1.6224  1.6223  1.6216  1.4578] [ 0.00035707  0.00038406  0.00056789  0.00027839  0.00058949  0.00055   ]\n"
     ]
    }
   ],
   "source": [
    "n1=mean(data1,axis=0)\n",
    "sn1=sqrt(std(data1,axis=0)**2+cn**2)/2\n",
    "print(n1,sn1)"
   ]
  },
  {
   "cell_type": "code",
   "execution_count": 4,
   "metadata": {
    "collapsed": true
   },
   "outputs": [],
   "source": [
    "data2=genfromtxt(\"отражение.csv\",delimiter=',',skip_header=1)"
   ]
  },
  {
   "cell_type": "code",
   "execution_count": 5,
   "metadata": {
    "collapsed": false
   },
   "outputs": [
    {
     "name": "stdout",
     "output_type": "stream",
     "text": [
      "[ 1.3167  1.3459  1.619   1.5986  1.456 ] [ 0.00035707  0.00066895  0.00075     0.00308585  0.00075   ]\n"
     ]
    }
   ],
   "source": [
    "n2=mean(data2,axis=0)\n",
    "sn2=sqrt(std(data2,axis=0)**2+cn**2)/2\n",
    "print(n2,sn2)"
   ]
  },
  {
   "cell_type": "code",
   "execution_count": 8,
   "metadata": {
    "collapsed": false
   },
   "outputs": [],
   "source": [
    "ns=hstack((n1[:2],n1[-1:]))\n",
    "sns=hstack((sn1[:2],sn1[-1:]))"
   ]
  },
  {
   "cell_type": "code",
   "execution_count": 9,
   "metadata": {
    "collapsed": true
   },
   "outputs": [],
   "source": [
    "no=hstack((n2[:2],n2[-1:]))\n",
    "sno=hstack((sn2[:2],sn2[-1:]))"
   ]
  },
  {
   "cell_type": "code",
   "execution_count": 14,
   "metadata": {
    "collapsed": true
   },
   "outputs": [],
   "source": [
    "M=array((18,46,92))\n",
    "sM=0.1\n",
    "rho=array((1,0.79,1.26))\n",
    "srho=1e-3"
   ]
  },
  {
   "cell_type": "code",
   "execution_count": 15,
   "metadata": {
    "collapsed": false
   },
   "outputs": [
    {
     "name": "stdout",
     "output_type": "stream",
     "text": [
      "[  3.55242409  12.4289099   19.91574782] [ 0.02023171  0.0328612   0.03546654]\n"
     ]
    }
   ],
   "source": [
    "RMs=M/rho*(ns**2-1)/(ns**2+2)\n",
    "sRMs=RMs*sqrt((sM/M)**2+(srho/rho)**2+(6*ns*sns/(ns**2+2))**2)\n",
    "print(RMs,sRMs)"
   ]
  },
  {
   "cell_type": "code",
   "execution_count": 16,
   "metadata": {
    "collapsed": false
   },
   "outputs": [
    {
     "name": "stdout",
     "output_type": "stream",
     "text": [
      "[  3.53713045  12.39655279  19.84814928] [ 0.02023168  0.03588712  0.04149202]\n"
     ]
    }
   ],
   "source": [
    "RMo=M/rho*(no**2-1)/(no**2+2)\n",
    "sRMo=RMs*sqrt((sM/M)**2+(srho/rho)**2+(6*no*sno/(no**2+2))**2)\n",
    "print(RMo,sRMo)"
   ]
  },
  {
   "cell_type": "code",
   "execution_count": 17,
   "metadata": {
    "collapsed": false
   },
   "outputs": [
    {
     "name": "stdout",
     "output_type": "stream",
     "text": [
      "[  1.40876874e-24   4.92887653e-24   7.89789795e-24] [  8.02319719e-27   1.30316169e-26   1.40648071e-26]\n"
     ]
    }
   ],
   "source": [
    "NA=6.02e23\n",
    "alphas=RMs*3/(4*pi*NA)\n",
    "salphas=sRMs*3/(4*pi*NA)\n",
    "print(alphas,salphas)"
   ]
  },
  {
   "cell_type": "code",
   "execution_count": 18,
   "metadata": {
    "collapsed": false
   },
   "outputs": [
    {
     "name": "stdout",
     "output_type": "stream",
     "text": [
      "[  1.40270381e-24   4.91604482e-24   7.87109070e-24] [  8.02318582e-27   1.42315939e-26   1.64543012e-26]\n"
     ]
    }
   ],
   "source": [
    "alphao=RMo*3/(4*pi*NA)\n",
    "salphao=sRMo*3/(4*pi*NA)\n",
    "print(alphao,salphao)"
   ]
  },
  {
   "cell_type": "code",
   "execution_count": 23,
   "metadata": {
    "collapsed": true
   },
   "outputs": [],
   "source": [
    "RM=RMs\n",
    "sRM=sRMs"
   ]
  },
  {
   "cell_type": "code",
   "execution_count": 24,
   "metadata": {
    "collapsed": false
   },
   "outputs": [
    {
     "name": "stdout",
     "output_type": "stream",
     "text": [
      "1.52429751279 1.01406329061 2.41011631988\n"
     ]
    }
   ],
   "source": [
    "R_O=1/2*RM[2]-3/4*RM[1]+1/4*RM[0]\n",
    "R_H=-1/4*RM[2]+3/8*RM[1]+3/8*RM[0]\n",
    "R_C=1/2*RM[2]-1/4*RM[1]-5/4*RM[0]\n",
    "print(R_O,R_H,R_C)"
   ]
  },
  {
   "cell_type": "code",
   "execution_count": 25,
   "metadata": {
    "collapsed": false
   },
   "outputs": [
    {
     "name": "stdout",
     "output_type": "stream",
     "text": [
      "0.0307810319312 0.0169715419789 0.0319613171309\n"
     ]
    }
   ],
   "source": [
    "sR_O=sqrt((1/2*sRM[2])**2+(3/4*sRM[1])**2+(1/4*sRM[0])**2)\n",
    "sR_H=sqrt((1/4*sRM[2])**2+(3/8*sRM[1])**2+(3/8*sRM[0])**2)\n",
    "sR_C=sqrt((1/2*sRM[2])**2+(1/4*sRM[1])**2+(5/4*sRM[0])**2)\n",
    "print(sR_O,sR_H,sR_C)"
   ]
  },
  {
   "cell_type": "code",
   "execution_count": 26,
   "metadata": {
    "collapsed": false
   },
   "outputs": [
    {
     "name": "stdout",
     "output_type": "stream",
     "text": [
      "7.99066699512 0.0811019698514\n"
     ]
    }
   ],
   "source": [
    "R_CH4O=R_C+4*R_H+R_O\n",
    "sR_CH4O=sqrt(sR_C**2+16*sR_H**2+sR_O**2)\n",
    "print(R_CH4O,sR_CH4O)"
   ]
  },
  {
   "cell_type": "code",
   "execution_count": 29,
   "metadata": {
    "collapsed": false
   },
   "outputs": [
    {
     "name": "stdout",
     "output_type": "stream",
     "text": [
      "1.31804580486 0.0035361431814\n"
     ]
    }
   ],
   "source": [
    "rho_CH4O=.79\n",
    "M_CH4O=32\n",
    "n_CH4O=sqrt(3/(1-R_CH4O*rho_CH4O/M_CH4O)-2)\n",
    "sn_CH4O=sR_CH4O*rho_CH4O/M_CH4O*3/(1-R_CH4O*rho_CH4O/M_CH4O)**2/(3/(1-R_CH4O*rho_CH4O/M_CH4O)-2)/2*n_CH4O\n",
    "print(n_CH4O,sn_CH4O)"
   ]
  },
  {
   "cell_type": "code",
   "execution_count": 30,
   "metadata": {
    "collapsed": false
   },
   "outputs": [
    {
     "name": "stdout",
     "output_type": "stream",
     "text": [
      "1.28953384655 0.00178728966045\n"
     ]
    }
   ],
   "source": [
    "R_ice,sR_ice=RM[0],sRM[0]\n",
    "rho_ice,M_ice=.917,18\n",
    "n_ice=sqrt(3/(1-R_ice*rho_ice/M_ice)-2)\n",
    "sn_ice=sR_ice*rho_ice/M_ice*3/(1-R_ice*rho_ice/M_ice)**2/(3/(1-R_ice*rho_ice/M_ice)-2)/2*n_ice\n",
    "print(n_ice,sn_ice)"
   ]
  },
  {
   "cell_type": "code",
   "execution_count": 32,
   "metadata": {
    "collapsed": false
   },
   "outputs": [
    {
     "name": "stdout",
     "output_type": "stream",
     "text": [
      "2.84593219383 0.0556827657697\n"
     ]
    }
   ],
   "source": [
    "rho_C,M_C=3.5,12\n",
    "n_C=sqrt(3/(1-R_C*rho_C/M_C)-2)\n",
    "sn_C=sR_C*rho_C/M_C*3/(1-R_C*rho_C/M_C)**2/(3/(1-R_C*rho_C/M_C)-2)/2*n_C\n",
    "print(n_C,sn_C)"
   ]
  },
  {
   "cell_type": "code",
   "execution_count": null,
   "metadata": {
    "collapsed": true
   },
   "outputs": [],
   "source": []
  }
 ],
 "metadata": {
  "kernelspec": {
   "display_name": "IPython (Python 3)",
   "language": "python",
   "name": "python3"
  },
  "language_info": {
   "codemirror_mode": {
    "name": "ipython",
    "version": 3
   },
   "file_extension": ".py",
   "mimetype": "text/x-python",
   "name": "python",
   "nbconvert_exporter": "python",
   "pygments_lexer": "ipython3",
   "version": "3.5.2"
  }
 },
 "nbformat": 4,
 "nbformat_minor": 2
}
