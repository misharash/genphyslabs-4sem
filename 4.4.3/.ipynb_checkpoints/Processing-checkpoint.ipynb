{
 "cells": [
  {
   "cell_type": "code",
   "execution_count": 1,
   "metadata": {
    "collapsed": false
   },
   "outputs": [
    {
     "name": "stdout",
     "output_type": "stream",
     "text": [
      "Populating the interactive namespace from numpy and matplotlib\n"
     ]
    }
   ],
   "source": [
    "%pylab inline"
   ]
  },
  {
   "cell_type": "code",
   "execution_count": 2,
   "metadata": {
    "collapsed": false
   },
   "outputs": [],
   "source": [
    "dms=lambda decs,mins,secs: (decs+(mins+secs/60)/60)*pi/180"
   ]
  },
  {
   "cell_type": "code",
   "execution_count": 3,
   "metadata": {
    "collapsed": false
   },
   "outputs": [
    {
     "data": {
      "text/plain": [
       "8"
      ]
     },
     "execution_count": 3,
     "metadata": {},
     "output_type": "execute_result"
    }
   ],
   "source": [
    "alpha=dms(62,58,34)\n",
    "salpha=dms(0,0,7)\n",
    "lambd,deltaD,deltaM,deltaS=genfromtxt(\"angles.csv\",delimiter=',',skip_header=1).T\n",
    "len(lambd)"
   ]
  },
  {
   "cell_type": "code",
   "execution_count": 4,
   "metadata": {
    "collapsed": false
   },
   "outputs": [],
   "source": [
    "delta=dms(360,8,4)-dms(deltaD,deltaM,deltaS)\n",
    "#delta=dms(360,1,0)-dms(deltaD,deltaM,deltaS)\n",
    "sdelta=dms(0,0,30)\n",
    "np=sin((alpha+delta)/2)/sin(alpha/2)\n",
    "snp=np*sqrt(sdelta**2/tan((alpha+delta)/2)**2+salpha**2/tan(alpha/2)**2)/2"
   ]
  },
  {
   "cell_type": "code",
   "execution_count": 5,
   "metadata": {
    "collapsed": false
   },
   "outputs": [
    {
     "name": "stdout",
     "output_type": "stream",
     "text": [
      "[  3.71343846e-07  -5.29997420e-04   1.79589009e+00] [  3.83342049e-09   4.15658739e-06   1.10426999e-03]\n",
      "485.63435125\n"
     ]
    },
    {
     "data": {
      "image/png": "[encoded data removed]",
      "text/plain": [
       "<matplotlib.figure.Figure at 0x7f3dfd5d7be0>"
      ]
     },
     "metadata": {},
     "output_type": "display_data"
    }
   ],
   "source": [
    "from scipy.optimize import curve_fit\n",
    "errorbar(lambd,np,yerr=snp,fmt='.')\n",
    "f=lambda x,a,b,c: a*x*x+b*x+c\n",
    "f1=lambda x,v: f(x,v[0],v[1],v[2])\n",
    "popt,pcov=curve_fit(f,lambd,np,sigma=snp,absolute_sigma=True)\n",
    "perr=sqrt(diag(pcov))\n",
    "print(popt,perr)\n",
    "lambd1=arange(400,700.1,10)\n",
    "plot(lambd1,f1(lambd1,popt),'--')\n",
    "chi2=sum(((np-f1(lambd,popt))/snp)**2)\n",
    "sna=sqrt(sum((np-f1(lambd,popt))**2)/len(np))\n",
    "print(chi2)\n",
    "#graph\n",
    "rc('font',**{'family':'serif'})\n",
    "rc('text', usetex=True)\n",
    "rc('text.latex',unicode=True)\n",
    "rc('text.latex',preamble=r'\\usepackage[utf8]{inputenc}')\n",
    "rc('text.latex',preamble=r'\\usepackage[russian]{babel}')\n",
    "rcParams['figure.figsize']=(8.27,5.83)\n",
    "title(\"Дисперсионная кривая\")\n",
    "ylabel(\"n\")\n",
    "xlabel(r\"$\\lambda$, нм\")\n",
    "minorticks_on()\n",
    "grid(which='both')\n",
    "savefig(\"graph.pdf\")"
   ]
  },
  {
   "cell_type": "code",
   "execution_count": 6,
   "metadata": {
    "collapsed": false
   },
   "outputs": [
    {
     "name": "stdout",
     "output_type": "stream",
     "text": [
      "1.61252085934 0.00307279757577 0.0180027705884 0.000949221916295 34.0236996483 1.79433577622\n"
     ]
    }
   ],
   "source": [
    "nD,nF,nC=f1(array([589.3,486.1,656.3]),popt)\n",
    "lD=589.3\n",
    "snD=sqrt((perr[0]*lD**2)**2+(perr[1]*lD)**2+(perr[2])**2+sna**2)\n",
    "D=nF-nC\n",
    "nu=(nD-1)/D\n",
    "snu=nu*sqrt((sna/(nD-1))**2+2*(sna/D)**2)\n",
    "print(nD,snD,D,sna*sqrt(2),nu,snu)"
   ]
  },
  {
   "cell_type": "code",
   "execution_count": 7,
   "metadata": {
    "collapsed": false
   },
   "outputs": [
    {
     "name": "stdout",
     "output_type": "stream",
     "text": [
      "9.99069775043e-05 1.34240250773e-05\n",
      "7093.3954028 953.105780486\n"
     ]
    }
   ],
   "source": [
    "nl=2*popt[0]*lambd[0]+popt[1]\n",
    "snl=sna/50\n",
    "a=7.1#cm\n",
    "R=-1e7*a*nl\n",
    "sR=-snl/nl*R\n",
    "print(-nl,snl)\n",
    "print(R,sR)"
   ]
  },
  {
   "cell_type": "code",
   "execution_count": null,
   "metadata": {
    "collapsed": true
   },
   "outputs": [],
   "source": []
  }
 ],
 "metadata": {
  "kernelspec": {
   "display_name": "IPython (Python 3)",
   "language": "python",
   "name": "python3"
  },
  "language_info": {
   "codemirror_mode": {
    "name": "ipython",
    "version": 3
   },
   "file_extension": ".py",
   "mimetype": "text/x-python",
   "name": "python",
   "nbconvert_exporter": "python",
   "pygments_lexer": "ipython3",
   "version": "3.5.2"
  }
 },
 "nbformat": 4,
 "nbformat_minor": 2
}
