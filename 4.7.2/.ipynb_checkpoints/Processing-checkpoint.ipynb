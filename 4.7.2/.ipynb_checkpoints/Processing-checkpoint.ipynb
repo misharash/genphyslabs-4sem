{
 "cells": [
  {
   "cell_type": "code",
   "execution_count": 1,
   "metadata": {},
   "outputs": [
    {
     "name": "stdout",
     "output_type": "stream",
     "text": [
      "Populating the interactive namespace from numpy and matplotlib\n"
     ]
    }
   ],
   "source": [
    "%pylab inline\n",
    "rc('font',**{'family':'serif'})\n",
    "rc('text', usetex=True)\n",
    "rc('text.latex',unicode=True)\n",
    "rc('text.latex',preamble=r'\\usepackage[utf8]{inputenc}')\n",
    "rc('text.latex',preamble=r'\\usepackage[russian]{babel}')\n",
    "rcParams['figure.figsize']=(8.27,5.83)"
   ]
  },
  {
   "cell_type": "code",
   "execution_count": 2,
   "metadata": {
    "collapsed": true
   },
   "outputs": [],
   "source": [
    "def olsim(x,y,sx,sy):\n",
    "\ta=0\n",
    "\tfor i in range(3):\n",
    "\t\tw=1/(sy**2+(a*sx)**2)\n",
    "\t\tSw=sum(w)\n",
    "\t\tax=sum(x*w)/Sw\n",
    "\t\tay=sum(y*w)/Sw\n",
    "\t\taxy=sum(x*y*w)/Sw\n",
    "\t\tax2=sum((x**2+sx**2)*w)/Sw\n",
    "\t\tay2=sum((y**2+sy**2)*w)/Sw\n",
    "\t\ta=(axy-ax*ay)/(ax2-ax*ax)\n",
    "\tb=(ax2*ay-ax*axy)/(ax2-ax*ax)\n",
    "\tn=len(x)\n",
    "\tchi2=sum((y-a*x-b)**2/(sy**2+(a*sx)**2))\n",
    "\ts02=n/(n-2)*(ay2-ay*ay-(axy-ax*ay)*(axy-ax*ay)/(ax2-ax*ax))\n",
    "\tsa2=s02/n/(ax2-ax*ax)\n",
    "\tsb2=sa2*ax2\n",
    "\tsa=sqrt(sa2)\n",
    "\tsb=sqrt(sb2)\n",
    "\treturn a,b,sa,sb,chi2"
   ]
  },
  {
   "cell_type": "markdown",
   "metadata": {},
   "source": [
    "# Part I Interferention"
   ]
  },
  {
   "cell_type": "code",
   "execution_count": 3,
   "metadata": {},
   "outputs": [
    {
     "data": {
      "text/plain": [
       "6"
      ]
     },
     "execution_count": 3,
     "metadata": {},
     "output_type": "execute_result"
    }
   ],
   "source": [
    "m,rm=genfromtxt('interf.csv',delimiter=',',skip_header=1).T\n",
    "len(m)"
   ]
  },
  {
   "cell_type": "code",
   "execution_count": 4,
   "metadata": {
    "collapsed": true
   },
   "outputs": [],
   "source": [
    "srm=0.05\n",
    "rm2=rm**2\n",
    "srm2=2*rm*srm"
   ]
  },
  {
   "cell_type": "code",
   "execution_count": 5,
   "metadata": {},
   "outputs": [
    {
     "name": "stdout",
     "output_type": "stream",
     "text": [
      "8.06366095559 -0.245055747495 0.171861122214 0.500966066749 3.34544175835\n"
     ]
    },
    {
     "data": {
      "image/png": "[encoded data removed]",
      "text/plain": [
       "<matplotlib.figure.Figure at 0x7fb8fd6f5278>"
      ]
     },
     "metadata": {},
     "output_type": "display_data"
    }
   ],
   "source": [
    "errorbar(m,rm2,yerr=srm2,fmt='.')\n",
    "a,b,sa,sb,chi2=olsim(m,rm2,0,srm2)\n",
    "print(a,b,sa,sb,chi2)\n",
    "r12,sr12=a,sa\n",
    "arg=arange(0,m[-1]+.01,1)\n",
    "plot(arg,arg*a+b)\n",
    "minorticks_on()\n",
    "grid(which='both')\n",
    "title('Зависимость радиуса тёмного кольца от номера')\n",
    "ylabel('$r_m^2$, см$^2$')\n",
    "xlabel('$m$')\n",
    "axis((0,6.1,0,50))\n",
    "savefig('graph-interf.pdf')"
   ]
  },
  {
   "cell_type": "code",
   "execution_count": 6,
   "metadata": {},
   "outputs": [
    {
     "name": "stdout",
     "output_type": "stream",
     "text": [
      "0.0886397318946 0.00347302554623\n"
     ]
    }
   ],
   "source": [
    "l=2.6 #cm\n",
    "sl=0.05\n",
    "L=75 #cm\n",
    "sL=1\n",
    "Lambda=.63e-4 #cm\n",
    "no=2.29\n",
    "dn=Lambda/l*(no*L)**2/r12\n",
    "sdn=dn*sqrt((2*sL/L)**2+(sl/l)**2+(sr12/r12)**2)\n",
    "print(dn,sdn)"
   ]
  },
  {
   "cell_type": "markdown",
   "metadata": {},
   "source": [
    "# Part II Half-wave voltage"
   ]
  },
  {
   "cell_type": "code",
   "execution_count": 7,
   "metadata": {},
   "outputs": [
    {
     "name": "stdout",
     "output_type": "stream",
     "text": [
      "29.3 2.13333333333 1.6735690405 3.6153223308 1.00208333333\n",
      "439.5 25.1035356076\n"
     ]
    }
   ],
   "source": [
    "n,Umin,Umax=genfromtxt('Ulambda2.csv',delimiter=',',skip_header=1).T\n",
    "n=hstack((n,n))\n",
    "Udel=hstack((Umin,Umax)) #in div\n",
    "sUdel=array([2]*3+[4]*3) #in div\n",
    "a,b,sa,sb,chi2=olsim(n,Udel,0,sUdel)\n",
    "print(a,b,sa,sb,chi2)\n",
    "cU=15\n",
    "Ul2,sUl2=a*cU,sa*cU\n",
    "print(Ul2,sUl2)"
   ]
  },
  {
   "cell_type": "code",
   "execution_count": 8,
   "metadata": {},
   "outputs": [
    {
     "name": "stdout",
     "output_type": "stream",
     "text": [
      "453.214285714 7.17137165601\n"
     ]
    }
   ],
   "source": [
    "Udel1=Udel/n #in div\n",
    "sUdel1=sUdel/n #in div\n",
    "Ul2a=cU*sum(Udel1/sUdel1**2)/sum(1/sUdel1**2)\n",
    "sUl2a=cU*sqrt(1/sum(1/sUdel1**2))\n",
    "print(Ul2a,sUl2a)"
   ]
  },
  {
   "cell_type": "markdown",
   "metadata": {},
   "source": [
    "# Part III Lissajous curves"
   ]
  },
  {
   "cell_type": "code",
   "execution_count": 9,
   "metadata": {
    "collapsed": true
   },
   "outputs": [],
   "source": [
    "n2,U,sU=genfromtxt('Ulambda2l.csv',delimiter=',',skip_header=1).T"
   ]
  },
  {
   "cell_type": "code",
   "execution_count": 10,
   "metadata": {},
   "outputs": [
    {
     "name": "stdout",
     "output_type": "stream",
     "text": [
      "436.730769231 11.7669681083\n"
     ]
    }
   ],
   "source": [
    "U1=U/n2\n",
    "sU1=sU/n2\n",
    "Ul2l=cU*sum(U1/sU1**2)/sum(1/sU1**2)\n",
    "sUl2l=cU*sqrt(1/sum(1/sU1**2))\n",
    "print(Ul2l,sUl2l)"
   ]
  },
  {
   "cell_type": "code",
   "execution_count": null,
   "metadata": {
    "collapsed": true
   },
   "outputs": [],
   "source": []
  }
 ],
 "metadata": {
  "kernelspec": {
   "display_name": "Python 3",
   "language": "python",
   "name": "python3"
  },
  "language_info": {
   "codemirror_mode": {
    "name": "ipython",
    "version": 3
   },
   "file_extension": ".py",
   "mimetype": "text/x-python",
   "name": "python",
   "nbconvert_exporter": "python",
   "pygments_lexer": "ipython3",
   "version": "3.5.3"
  }
 },
 "nbformat": 4,
 "nbformat_minor": 2
}
